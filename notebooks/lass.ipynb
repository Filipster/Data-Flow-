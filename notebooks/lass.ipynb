{
  "nbformat": 4,
  "nbformat_minor": 0,
  "metadata": {
    "colab": {
      "name": "Untitled6.ipynb",
      "provenance": [],
      "collapsed_sections": []
    },
    "kernelspec": {
      "name": "python3",
      "display_name": "Python 3"
    }
  },
  "cells": [
    {
      "cell_type": "code",
      "metadata": {
        "id": "uwtjzRBtfmFC",
        "colab_type": "code",
        "outputId": "adfdd3a7-0d85-47e5-eddf-13dc01a7cb6b",
        "colab": {
          "base_uri": "https://localhost:8080/",
          "height": 319
        }
      },
      "source": [
        "import pandas as pd\n",
        "import matplotlib.pyplot as plt\n",
        "import numpy as np\n",
        "\n",
        "data = pd.read_csv('convertcsv.csv')\n",
        "\n",
        "\n",
        "data.head()\n",
        "\n",
        "data.columns.values\n",
        "\n",
        "newdata = ['Country', 'Number_acutecases']\n",
        "doencas = data.filter(items=newdata)\n",
        "\n",
        "type(doencas)\n",
        "\n",
        "doencas.dropna(inplace = True)\n",
        "df1 = doencas['Country'] #.astype(float) \n",
        "#... Unable to convert a string to a float\n",
        "df2 = doencas['Number_acutecases'] #.astype(float)\n",
        "\n",
        "\n",
        "plt.hist(df2)\n"
      ],
      "execution_count": 8,
      "outputs": [
        {
          "output_type": "execute_result",
          "data": {
            "text/plain": [
              "(array([ 50.,   7., 207.,   8.,   5.,   7.,   5.,   5.,   9.,   4.]),\n",
              " array([ 0. ,  3.5,  7. , 10.5, 14. , 17.5, 21. , 24.5, 28. , 31.5, 35. ]),\n",
              " <a list of 10 Patch objects>)"
            ]
          },
          "metadata": {
            "tags": []
          },
          "execution_count": 8
        },
        {
          "output_type": "display_data",
          "data": {
            "image/png": "[encoded data removed]",
            "text/plain": [
              "<Figure size 432x288 with 1 Axes>"
            ]
          },
          "metadata": {
            "tags": []
          }
        }
      ]
    },
    {
      "cell_type": "code",
      "metadata": {
        "id": "HTJrb55cf2Kn",
        "colab_type": "code",
        "colab": {}
      },
      "source": [
        "import pylab as pl"
      ],
      "execution_count": 0,
      "outputs": []
    },
    {
      "cell_type": "code",
      "metadata": {
        "id": "PCvm8eN3iYU2",
        "colab_type": "code",
        "colab": {}
      },
      "source": [
        ""
      ],
      "execution_count": 0,
      "outputs": []
    }
  ]
}
{
 "cells": [
  {
   "cell_type": "code",
   "execution_count": 2,
   "metadata": {},
   "outputs": [],
   "source": [
    "import pandas as pd\n",
    "import matplotlib as plt\n",
    "import numpy as np"
   ]
  },
  {
   "cell_type": "code",
   "execution_count": 3,
   "metadata": {},
   "outputs": [
    {
     "data": {
      "text/html": [
       "<div>\n",
       "<style scoped>\n",
       "    .dataframe tbody tr th:only-of-type {\n",
       "        vertical-align: middle;\n",
       "    }\n",
       "\n",
       "    .dataframe tbody tr th {\n",
       "        vertical-align: top;\n",
       "    }\n",
       "\n",
       "    .dataframe thead th {\n",
       "        text-align: right;\n",
       "    }\n",
       "</style>\n",
       "<table border=\"1\" class=\"dataframe\">\n",
       "  <thead>\n",
       "    <tr style=\"text-align: right;\">\n",
       "      <th></th>\n",
       "      <th>ID</th>\n",
       "      <th>Country</th>\n",
       "      <th>Admin_region</th>\n",
       "      <th>Town</th>\n",
       "      <th>Latitude</th>\n",
       "      <th>Longitude</th>\n",
       "      <th>Year_start</th>\n",
       "      <th>Year_end</th>\n",
       "      <th>Rodent_or_human</th>\n",
       "      <th>Acutedisease_or_seroprevalence</th>\n",
       "      <th>Number_acutecases</th>\n",
       "    </tr>\n",
       "  </thead>\n",
       "  <tbody>\n",
       "    <tr>\n",
       "      <td>0</td>\n",
       "      <td>1</td>\n",
       "      <td>Nigeria</td>\n",
       "      <td>Kaduna State</td>\n",
       "      <td>Rahama</td>\n",
       "      <td>10.4134</td>\n",
       "      <td>8.6904</td>\n",
       "      <td>1952</td>\n",
       "      <td>1952</td>\n",
       "      <td>Human</td>\n",
       "      <td>Acute</td>\n",
       "      <td>1</td>\n",
       "    </tr>\n",
       "    <tr>\n",
       "      <td>1</td>\n",
       "      <td>2</td>\n",
       "      <td>Liberia</td>\n",
       "      <td>Lofa County</td>\n",
       "      <td>Zorzor</td>\n",
       "      <td>7.7700</td>\n",
       "      <td>-9.4200</td>\n",
       "      <td>1969</td>\n",
       "      <td>1982</td>\n",
       "      <td>Human</td>\n",
       "      <td>Acute</td>\n",
       "      <td>38</td>\n",
       "    </tr>\n",
       "    <tr>\n",
       "      <td>2</td>\n",
       "      <td>3</td>\n",
       "      <td>Nigeria</td>\n",
       "      <td>Borno State</td>\n",
       "      <td>Lassa</td>\n",
       "      <td>10.6900</td>\n",
       "      <td>13.3100</td>\n",
       "      <td>1969</td>\n",
       "      <td>1969</td>\n",
       "      <td>Human</td>\n",
       "      <td>Acute</td>\n",
       "      <td>1</td>\n",
       "    </tr>\n",
       "    <tr>\n",
       "      <td>3</td>\n",
       "      <td>4</td>\n",
       "      <td>Nigeria</td>\n",
       "      <td>Plateau State</td>\n",
       "      <td>Jos</td>\n",
       "      <td>9.9200</td>\n",
       "      <td>8.9000</td>\n",
       "      <td>1969</td>\n",
       "      <td>1969</td>\n",
       "      <td>Human</td>\n",
       "      <td>Acute</td>\n",
       "      <td>2</td>\n",
       "    </tr>\n",
       "    <tr>\n",
       "      <td>4</td>\n",
       "      <td>5</td>\n",
       "      <td>Cote d'Ivoire</td>\n",
       "      <td>Beoumi Prefecture</td>\n",
       "      <td>Beoumi</td>\n",
       "      <td>7.6700</td>\n",
       "      <td>-5.5700</td>\n",
       "      <td>1970</td>\n",
       "      <td>1974</td>\n",
       "      <td>Human</td>\n",
       "      <td>Acute</td>\n",
       "      <td>1</td>\n",
       "    </tr>\n",
       "  </tbody>\n",
       "</table>\n",
       "</div>"
      ],
      "text/plain": [
       "   ID        Country       Admin_region    Town  Latitude  Longitude  \\\n",
       "0   1        Nigeria       Kaduna State  Rahama   10.4134     8.6904   \n",
       "1   2        Liberia        Lofa County  Zorzor    7.7700    -9.4200   \n",
       "2   3        Nigeria        Borno State   Lassa   10.6900    13.3100   \n",
       "3   4        Nigeria      Plateau State     Jos    9.9200     8.9000   \n",
       "4   5  Cote d'Ivoire  Beoumi Prefecture  Beoumi    7.6700    -5.5700   \n",
       "\n",
       "   Year_start  Year_end Rodent_or_human Acutedisease_or_seroprevalence  \\\n",
       "0        1952      1952           Human                          Acute   \n",
       "1        1969      1982           Human                          Acute   \n",
       "2        1969      1969           Human                          Acute   \n",
       "3        1969      1969           Human                          Acute   \n",
       "4        1970      1974           Human                          Acute   \n",
       "\n",
       "  Number_acutecases  \n",
       "0                 1  \n",
       "1                38  \n",
       "2                 1  \n",
       "3                 2  \n",
       "4                 1  "
      ]
     },
     "execution_count": 3,
     "metadata": {},
     "output_type": "execute_result"
    }
   ],
   "source": [
    "data = pd.read_csv('convertcsv.csv')\n",
    "\n",
    "\n",
    "data.head()\n"
   ]
  },
  {
   "cell_type": "code",
   "execution_count": 4,
   "metadata": {},
   "outputs": [
    {
     "data": {
      "text/plain": [
       "array(['ID', 'Country', 'Admin_region', 'Town', 'Latitude', 'Longitude',\n",
       "       'Year_start', 'Year_end', 'Rodent_or_human',\n",
       "       'Acutedisease_or_seroprevalence', 'Number_acutecases'],\n",
       "      dtype=object)"
      ]
     },
     "execution_count": 4,
     "metadata": {},
     "output_type": "execute_result"
    }
   ],
   "source": [
    "data.columns.values"
   ]
  },
  {
   "cell_type": "code",
   "execution_count": 5,
   "metadata": {},
   "outputs": [],
   "source": [
    "newdata = ['Country', 'Number_acutecases']\n"
   ]
  },
  {
   "cell_type": "code",
   "execution_count": 6,
   "metadata": {},
   "outputs": [],
   "source": [
    "doencas = data.filter(items=newdata)"
   ]
  },
  {
   "cell_type": "code",
   "execution_count": 7,
   "metadata": {},
   "outputs": [
    {
     "name": "stdout",
     "output_type": "stream",
     "text": [
      "    Number_acutecases  Latitude  Longitude\n",
      "0                   1   10.4134     8.6904\n",
      "1                  38    7.7700    -9.4200\n",
      "2                   1   10.6900    13.3100\n",
      "3                   2    9.9200     8.9000\n",
      "4                   1    7.6700    -5.5700\n",
      "..                ...       ...        ...\n",
      "302                 4    7.4000    -5.3400\n",
      "303                 6    9.8740   -12.4460\n",
      "304                53   10.2259    -7.0906\n",
      "305                15   10.3126    -7.1453\n",
      "306                43   10.3521    -7.0921\n",
      "\n",
      "[307 rows x 3 columns]\n"
     ]
    }
   ],
   "source": [
    "data1 = ['Number_acutecases','Latitude', 'Longitude']\n",
    "\n",
    "\n",
    "localizationdata = data.filter(items=data1)\n",
    "\n",
    "print(localizationdata)"
   ]
  },
  {
   "cell_type": "code",
   "execution_count": 8,
   "metadata": {
    "scrolled": true
   },
   "outputs": [
    {
     "data": {
      "text/plain": [
       "pandas.core.frame.DataFrame"
      ]
     },
     "execution_count": 8,
     "metadata": {},
     "output_type": "execute_result"
    }
   ],
   "source": [
    "\n",
    "type(doencas)"
   ]
  },
  {
   "cell_type": "code",
   "execution_count": 9,
   "metadata": {},
   "outputs": [
    {
     "data": {
      "text/plain": [
       "(array([ 50.,   7., 207.,   8.,   5.,   7.,   5.,   5.,   9.,   4.]),\n",
       " array([ 0. ,  3.5,  7. , 10.5, 14. , 17.5, 21. , 24.5, 28. , 31.5, 35. ]),\n",
       " <a list of 10 Patch objects>)"
      ]
     },
     "execution_count": 9,
     "metadata": {},
     "output_type": "execute_result"
    }
   ],
   "source": [
    "import pandas as pd\n",
    "import matplotlib.pyplot as plt\n",
    "import numpy as np\n",
    "\n",
    "data = pd.read_csv('convertcsv.csv')\n",
    "\n",
    "\n",
    "data.head()\n",
    "\n",
    "data.columns.values\n",
    "\n",
    "newdata = ['Country', 'Number_acutecases']\n",
    "doencas = data.filter(items=newdata)\n",
    "\n",
    "type(doencas)\n",
    "\n",
    "doencas.dropna(inplace = True)\n",
    "df1 = doencas['Country'] #.astype(float) \n",
    "df2 = doencas['Number_acutecases'] #.astype(float)\n",
    "\n",
    "\n",
    "plt.hist(df2)"
   ]
  },
  {
   "cell_type": "code",
   "execution_count": 10,
   "metadata": {},
   "outputs": [
    {
     "data": {
      "image/png": "[encoded data removed]",
      "text/plain": [
       "<Figure size 432x288 with 2 Axes>"
      ]
     },
     "metadata": {
      "needs_background": "light"
     },
     "output_type": "display_data"
    }
   ],
   "source": [
    "import numpy as np\n",
    "import matplotlib.pyplot as plt\n",
    "import pandas as pd\n",
    "import matplotlib.pyplot as plt\n",
    "import numpy as np\n",
    "\n",
    "data = pd.read_csv('convertcsv.csv')\n",
    "\n",
    "\n",
    "data.head()\n",
    "\n",
    "data.columns.values\n",
    "\n",
    "newdata = ['Country', 'Number_acutecases']\n",
    "doencas = data.filter(items=newdata)\n",
    "\n",
    "type(doencas)\n",
    "\n",
    "doencas.dropna(inplace = True)\n",
    "df1 = doencas['Country'] #.astype(float) \n",
    "#... Unable to convert a string to a float\n",
    "df2 = doencas['Number_acutecases'] #.astype(float)\n",
    "\n",
    "# Fixing random state for reproducibility\n",
    "np.random.seed(19680801)\n",
    "\n",
    "dt = 0.01\n",
    "t = np.arange(0, 30, dt)\n",
    "nse1 = np.random.randn(len(t))                 # white noise 1\n",
    "nse2 = np.random.randn(len(t))                 # white noise 2\n",
    "\n",
    "# Two signals with a coherent part at 10Hz and a random part\n",
    "s1 = np.sin(2 * np.pi * 10 * t) + nse1\n",
    "s2 = np.sin(2 * np.pi * 10 * t) + nse2\n",
    "\n",
    "fig, axs = plt.subplots(2, 1)\n",
    "axs[0].plot(t, s1, t, s2)\n",
    "axs[0].set_xlim(0, 2)\n",
    "axs[0].set_xlabel('df1')\n",
    "axs[0].set_ylabel('df2')\n",
    "axs[0].grid(True)\n",
    "\n",
    "cxy, f = axs[1].cohere(s1, s2, 256, 1. / dt)\n",
    "axs[1].set_ylabel('df2')\n",
    "\n",
    "fig.tight_layout()\n",
    "plt.show()"
   ]
  },
  {
   "cell_type": "code",
   "execution_count": 11,
   "metadata": {},
   "outputs": [
    {
     "data": {
      "image/png": "[encoded data removed]",
      "text/plain": [
       "<Figure size 432x288 with 1 Axes>"
      ]
     },
     "metadata": {
      "needs_background": "light"
     },
     "output_type": "display_data"
    }
   ],
   "source": [
    "import pandas as pd\n",
    "import matplotlib.pyplot as plt\n",
    "import numpy as np\n",
    "\n",
    "data = pd.read_csv('convertcsv.csv')\n",
    "\n",
    "\n",
    "data.head()\n",
    "\n",
    "data.columns.values\n",
    "\n",
    "newdata = ['Country', 'Number_acutecases']\n",
    "doencas = data.filter(items=newdata)\n",
    "\n",
    "type(doencas)\n",
    "\n",
    "doencas.dropna(inplace = True)\n",
    "df1 = doencas['Country'] #.astype(float) \n",
    "#... Unable to convert a string to a float\n",
    "df2 = doencas['Number_acutecases'] #.astype(float)\n",
    "\n",
    "plt.bar(df1, df2)\n",
    "\n",
    "plt.ylabel('Country')\n",
    "plt.xlabel('Number of Acutecases')\n",
    "\n",
    "plt.title('Relation Between Country and Number of Acutecases of Lassa Fever')\n",
    "\n",
    "plt.show()"
   ]
  },
  {
   "cell_type": "code",
   "execution_count": 12,
   "metadata": {},
   "outputs": [
    {
     "data": {
      "image/png": "[encoded data removed]",
      "text/plain": [
       "<Figure size 432x288 with 1 Axes>"
      ]
     },
     "metadata": {
      "needs_background": "light"
     },
     "output_type": "display_data"
    }
   ],
   "source": [
    "import pandas as pd\n",
    "import matplotlib.pyplot as plt\n",
    "import numpy as np\n",
    "\n",
    "data = pd.read_csv('convertcsv.csv')\n",
    "\n",
    "\n",
    "data.head()\n",
    "\n",
    "data.columns.values\n",
    "\n",
    "newdata = ['Country', 'Number_acutecases']\n",
    "doencas = data.filter(items=newdata)\n",
    "\n",
    "type(doencas)\n",
    "\n",
    "doencas.dropna(inplace = True)\n",
    "df1 = doencas['Country'] #.astype(float) \n",
    "#... Unable to convert a string to a float\n",
    "df2 = doencas['Number_acutecases'] #.astype(float)\n",
    "\n",
    "plt.plot(df1, df2)\n",
    "\n",
    "plt.show()\n",
    "\n",
    "\n"
   ]
  },
  {
   "cell_type": "code",
   "execution_count": 13,
   "metadata": {},
   "outputs": [
    {
     "data": {
      "image/png": "[encoded data removed]",
      "text/plain": [
       "<Figure size 432x288 with 1 Axes>"
      ]
     },
     "metadata": {
      "needs_background": "light"
     },
     "output_type": "display_data"
    }
   ],
   "source": [
    "\n",
    "\n",
    "import pandas as pd\n",
    "import matplotlib.pyplot as plt\n",
    "import numpy as np\n",
    "\n",
    "data = pd.read_csv('convertcsv.csv')\n",
    "\n",
    "\n",
    "data.head()\n",
    "\n",
    "data.columns.values\n",
    "\n",
    "newdata = ['Country', 'Number_acutecases']\n",
    "doencas = data.filter(items=newdata)\n",
    "\n",
    "type(doencas)\n",
    "\n",
    "doencas.dropna(inplace = True)\n",
    "df1 = doencas['Country'] #.astype(float) \n",
    "#... Unable to convert a string to a float\n",
    "df2 = doencas['Number_acutecases'] #.astype(float)\n",
    "\n",
    "plt.ylabel('Country')\n",
    "plt.xlabel('Number of Acutecases')\n",
    "\n",
    "plt.title('Relation Between Country and Number of Acutecases of Lassa Fever')\n",
    "\n",
    "scatter_plot = plt.scatter(df1, df2, alpha=0.5)\n",
    "plt.show()"
   ]
  },
  {
   "cell_type": "code",
   "execution_count": 14,
   "metadata": {},
   "outputs": [
    {
     "data": {
      "image/png": "[encoded data removed]",
      "text/plain": [
       "<Figure size 432x288 with 1 Axes>"
      ]
     },
     "metadata": {
      "needs_background": "light"
     },
     "output_type": "display_data"
    }
   ],
   "source": [
    "\n",
    "data = pd.read_csv('convertcsv.csv')\n",
    "\n",
    "\n",
    "data.head()\n",
    "\n",
    "data.columns.values\n",
    "\n",
    "newdata = ['Country', 'Number_acutecases']\n",
    "doencas = data.filter(items=newdata)\n",
    "\n",
    "type(doencas)\n",
    "\n",
    "doencas.dropna(inplace = True)\n",
    "df1 = doencas['Country'] #.astype(float) \n",
    "#... Unable to convert a string to a float\n",
    "df2 = doencas['Number_acutecases'] #.astype(float)\n",
    "\n",
    "plt.ylabel('Country')\n",
    "plt.xlabel('Number of Acutecases')\n",
    "\n",
    "plt.title('Relation Between Country and Number of Acutecases of Lassa Fever')\n",
    "\n",
    "plt.hist(df2, bins=12)\n",
    "\n",
    "plt.show()"
   ]
  },
  {
   "cell_type": "code",
   "execution_count": 15,
   "metadata": {},
   "outputs": [
    {
     "data": {
      "image/png": "[encoded data removed]",
      "text/plain": [
       "<Figure size 432x288 with 1 Axes>"
      ]
     },
     "metadata": {
      "needs_background": "light"
     },
     "output_type": "display_data"
    }
   ],
   "source": [
    "\n",
    "data = pd.read_csv('convertcsv.csv')\n",
    "\n",
    "\n",
    "data.head()\n",
    "\n",
    "data.columns.values\n",
    "\n",
    "newdata = ['Country', 'Number_acutecases']\n",
    "doencas = data.filter(items=newdata)\n",
    "\n",
    "type(doencas)\n",
    "\n",
    "doencas.dropna(inplace = True)\n",
    "df1 = doencas['Country'] #.astype(float) \n",
    "#... Unable to convert a string to a float\n",
    "df2 = doencas['Number_acutecases'] #.astype(float)\n",
    "\n",
    "plt.ylabel('Country')\n",
    "plt.xlabel('Number of Acutecases')\n",
    "\n",
    "plt.title('Relation Between Country and Number of Acutecases of Lassa Fever')\n",
    "\n",
    "plt.hist(df1, bins=12)\n",
    "\n",
    "plt.show()"
   ]
  },
  {
   "cell_type": "code",
   "execution_count": 16,
   "metadata": {},
   "outputs": [
    {
     "name": "stdout",
     "output_type": "stream",
     "text": [
      "Requirement already satisfied: folium==0.8.2 in c:\\programdata\\anaconda3\\lib\\site-packages (0.8.2)\n",
      "Requirement already satisfied: numpy in c:\\programdata\\anaconda3\\lib\\site-packages (from folium==0.8.2) (1.16.5)\n",
      "Requirement already satisfied: requests in c:\\programdata\\anaconda3\\lib\\site-packages (from folium==0.8.2) (2.22.0)\n",
      "Requirement already satisfied: six in c:\\programdata\\anaconda3\\lib\\site-packages (from folium==0.8.2) (1.12.0)\n",
      "Requirement already satisfied: branca>=0.3.0 in c:\\programdata\\anaconda3\\lib\\site-packages (from folium==0.8.2) (0.3.1)\n",
      "Requirement already satisfied: jinja2 in c:\\programdata\\anaconda3\\lib\\site-packages (from folium==0.8.2) (2.10.3)\n",
      "Requirement already satisfied: chardet<3.1.0,>=3.0.2 in c:\\programdata\\anaconda3\\lib\\site-packages (from requests->folium==0.8.2) (3.0.4)\n",
      "Requirement already satisfied: certifi>=2017.4.17 in c:\\programdata\\anaconda3\\lib\\site-packages (from requests->folium==0.8.2) (2019.9.11)\n",
      "Requirement already satisfied: urllib3!=1.25.0,!=1.25.1,<1.26,>=1.21.1 in c:\\programdata\\anaconda3\\lib\\site-packages (from requests->folium==0.8.2) (1.24.2)\n",
      "Requirement already satisfied: idna<2.9,>=2.5 in c:\\programdata\\anaconda3\\lib\\site-packages (from requests->folium==0.8.2) (2.8)\n",
      "Requirement already satisfied: MarkupSafe>=0.23 in c:\\programdata\\anaconda3\\lib\\site-packages (from jinja2->folium==0.8.2) (1.1.1)\n"
     ]
    }
   ],
   "source": [
    "!pip install folium==0.8.2\n"
   ]
  },
  {
   "cell_type": "code",
   "execution_count": 17,
   "metadata": {},
   "outputs": [
    {
     "data": {
      "text/plain": [
       "array(['ID', 'Country', 'Admin_region', 'Town', 'Latitude', 'Longitude',\n",
       "       'Year_start', 'Year_end', 'Rodent_or_human',\n",
       "       'Acutedisease_or_seroprevalence', 'Number_acutecases'],\n",
       "      dtype=object)"
      ]
     },
     "execution_count": 17,
     "metadata": {},
     "output_type": "execute_result"
    }
   ],
   "source": [
    "data.columns.values"
   ]
  },
  {
   "cell_type": "code",
   "execution_count": 18,
   "metadata": {},
   "outputs": [
    {
     "data": {
      "text/html": [
       "<div>\n",
       "<style scoped>\n",
       "    .dataframe tbody tr th:only-of-type {\n",
       "        vertical-align: middle;\n",
       "    }\n",
       "\n",
       "    .dataframe tbody tr th {\n",
       "        vertical-align: top;\n",
       "    }\n",
       "\n",
       "    .dataframe thead th {\n",
       "        text-align: right;\n",
       "    }\n",
       "</style>\n",
       "<table border=\"1\" class=\"dataframe\">\n",
       "  <thead>\n",
       "    <tr style=\"text-align: right;\">\n",
       "      <th></th>\n",
       "      <th>Number_acutecases</th>\n",
       "      <th>Latitude</th>\n",
       "      <th>Longitude</th>\n",
       "    </tr>\n",
       "  </thead>\n",
       "  <tbody>\n",
       "    <tr>\n",
       "      <td>0</td>\n",
       "      <td>1</td>\n",
       "      <td>10.4134</td>\n",
       "      <td>8.6904</td>\n",
       "    </tr>\n",
       "    <tr>\n",
       "      <td>1</td>\n",
       "      <td>38</td>\n",
       "      <td>7.7700</td>\n",
       "      <td>-9.4200</td>\n",
       "    </tr>\n",
       "    <tr>\n",
       "      <td>2</td>\n",
       "      <td>1</td>\n",
       "      <td>10.6900</td>\n",
       "      <td>13.3100</td>\n",
       "    </tr>\n",
       "    <tr>\n",
       "      <td>3</td>\n",
       "      <td>2</td>\n",
       "      <td>9.9200</td>\n",
       "      <td>8.9000</td>\n",
       "    </tr>\n",
       "    <tr>\n",
       "      <td>4</td>\n",
       "      <td>1</td>\n",
       "      <td>7.6700</td>\n",
       "      <td>-5.5700</td>\n",
       "    </tr>\n",
       "    <tr>\n",
       "      <td>...</td>\n",
       "      <td>...</td>\n",
       "      <td>...</td>\n",
       "      <td>...</td>\n",
       "    </tr>\n",
       "    <tr>\n",
       "      <td>302</td>\n",
       "      <td>4</td>\n",
       "      <td>7.4000</td>\n",
       "      <td>-5.3400</td>\n",
       "    </tr>\n",
       "    <tr>\n",
       "      <td>303</td>\n",
       "      <td>6</td>\n",
       "      <td>9.8740</td>\n",
       "      <td>-12.4460</td>\n",
       "    </tr>\n",
       "    <tr>\n",
       "      <td>304</td>\n",
       "      <td>53</td>\n",
       "      <td>10.2259</td>\n",
       "      <td>-7.0906</td>\n",
       "    </tr>\n",
       "    <tr>\n",
       "      <td>305</td>\n",
       "      <td>15</td>\n",
       "      <td>10.3126</td>\n",
       "      <td>-7.1453</td>\n",
       "    </tr>\n",
       "    <tr>\n",
       "      <td>306</td>\n",
       "      <td>43</td>\n",
       "      <td>10.3521</td>\n",
       "      <td>-7.0921</td>\n",
       "    </tr>\n",
       "  </tbody>\n",
       "</table>\n",
       "<p>307 rows × 3 columns</p>\n",
       "</div>"
      ],
      "text/plain": [
       "    Number_acutecases  Latitude  Longitude\n",
       "0                   1   10.4134     8.6904\n",
       "1                  38    7.7700    -9.4200\n",
       "2                   1   10.6900    13.3100\n",
       "3                   2    9.9200     8.9000\n",
       "4                   1    7.6700    -5.5700\n",
       "..                ...       ...        ...\n",
       "302                 4    7.4000    -5.3400\n",
       "303                 6    9.8740   -12.4460\n",
       "304                53   10.2259    -7.0906\n",
       "305                15   10.3126    -7.1453\n",
       "306                43   10.3521    -7.0921\n",
       "\n",
       "[307 rows x 3 columns]"
      ]
     },
     "execution_count": 18,
     "metadata": {},
     "output_type": "execute_result"
    }
   ],
   "source": [
    "localizationdata\n",
    "\n"
   ]
  },
  {
   "cell_type": "code",
   "execution_count": 19,
   "metadata": {},
   "outputs": [
    {
     "name": "stdout",
     "output_type": "stream",
     "text": [
      "      ID        Country       Admin_region         Town  Latitude  Longitude  \\\n",
      "0      1        Nigeria       Kaduna State       Rahama   10.4134     8.6904   \n",
      "1      2        Liberia        Lofa County       Zorzor    7.7700    -9.4200   \n",
      "2      3        Nigeria        Borno State        Lassa   10.6900    13.3100   \n",
      "3      4        Nigeria      Plateau State          Jos    9.9200     8.9000   \n",
      "4      5  Cote d'Ivoire  Beoumi Prefecture       Beoumi    7.6700    -5.5700   \n",
      "..   ...            ...                ...          ...       ...        ...   \n",
      "299  355  Cote d'Ivoire      Not specified      Gbaloho    7.4000    -5.3400   \n",
      "300  356         Guinea      Not specified  Madina Oula    9.8740   -12.4460   \n",
      "301  357           Mali      Not specified        Bamba   10.2259    -7.0906   \n",
      "302  358           Mali      Not specified      Banzana   10.3126    -7.1453   \n",
      "303  359           Mali      Not specified      Soromba   10.3521    -7.0921   \n",
      "\n",
      "     Year_start  Year_end Rodent_or_human Acutedisease_or_seroprevalence  \\\n",
      "0          1952      1952           Human                          Acute   \n",
      "1          1969      1982           Human                          Acute   \n",
      "2          1969      1969           Human                          Acute   \n",
      "3          1969      1969           Human                          Acute   \n",
      "4          1970      1974           Human                          Acute   \n",
      "..          ...       ...             ...                            ...   \n",
      "299        2013      2013          Rodent                 Seroprevalence   \n",
      "300        2014      2014          Rodent                 Seroprevalence   \n",
      "301        2015      2015           Human                 Seroprevalence   \n",
      "302        2015      2015           Human                 Seroprevalence   \n",
      "303        2015      2015           Human                 Seroprevalence   \n",
      "\n",
      "     Number_acutecases  \n",
      "0                    1  \n",
      "1                   38  \n",
      "2                    1  \n",
      "3                    2  \n",
      "4                    1  \n",
      "..                 ...  \n",
      "299                  4  \n",
      "300                  6  \n",
      "301                 53  \n",
      "302                 15  \n",
      "303                 43  \n",
      "\n",
      "[304 rows x 11 columns]\n"
     ]
    }
   ],
   "source": [
    "lassadata = pd.read_csv('lassadata.csv')\n",
    "\n",
    "print(lassadata)\n",
    "\n",
    "\n"
   ]
  },
  {
   "cell_type": "code",
   "execution_count": 20,
   "metadata": {},
   "outputs": [
    {
     "data": {
      "text/html": [
       "<div>\n",
       "<style scoped>\n",
       "    .dataframe tbody tr th:only-of-type {\n",
       "        vertical-align: middle;\n",
       "    }\n",
       "\n",
       "    .dataframe tbody tr th {\n",
       "        vertical-align: top;\n",
       "    }\n",
       "\n",
       "    .dataframe thead th {\n",
       "        text-align: right;\n",
       "    }\n",
       "</style>\n",
       "<table border=\"1\" class=\"dataframe\">\n",
       "  <thead>\n",
       "    <tr style=\"text-align: right;\">\n",
       "      <th></th>\n",
       "      <th>ID</th>\n",
       "      <th>Country</th>\n",
       "      <th>Admin_region</th>\n",
       "      <th>Town</th>\n",
       "      <th>Latitude</th>\n",
       "      <th>Longitude</th>\n",
       "      <th>Year_start</th>\n",
       "      <th>Year_end</th>\n",
       "      <th>Rodent_or_human</th>\n",
       "      <th>Acutedisease_or_seroprevalence</th>\n",
       "      <th>Number_acutecases</th>\n",
       "    </tr>\n",
       "  </thead>\n",
       "  <tbody>\n",
       "    <tr>\n",
       "      <td>0</td>\n",
       "      <td>1</td>\n",
       "      <td>Nigeria</td>\n",
       "      <td>Kaduna State</td>\n",
       "      <td>Rahama</td>\n",
       "      <td>10.4134</td>\n",
       "      <td>8.6904</td>\n",
       "      <td>1952</td>\n",
       "      <td>1952</td>\n",
       "      <td>Human</td>\n",
       "      <td>Acute</td>\n",
       "      <td>1</td>\n",
       "    </tr>\n",
       "    <tr>\n",
       "      <td>1</td>\n",
       "      <td>2</td>\n",
       "      <td>Liberia</td>\n",
       "      <td>Lofa County</td>\n",
       "      <td>Zorzor</td>\n",
       "      <td>7.7700</td>\n",
       "      <td>-9.4200</td>\n",
       "      <td>1969</td>\n",
       "      <td>1982</td>\n",
       "      <td>Human</td>\n",
       "      <td>Acute</td>\n",
       "      <td>38</td>\n",
       "    </tr>\n",
       "    <tr>\n",
       "      <td>2</td>\n",
       "      <td>3</td>\n",
       "      <td>Nigeria</td>\n",
       "      <td>Borno State</td>\n",
       "      <td>Lassa</td>\n",
       "      <td>10.6900</td>\n",
       "      <td>13.3100</td>\n",
       "      <td>1969</td>\n",
       "      <td>1969</td>\n",
       "      <td>Human</td>\n",
       "      <td>Acute</td>\n",
       "      <td>1</td>\n",
       "    </tr>\n",
       "    <tr>\n",
       "      <td>3</td>\n",
       "      <td>4</td>\n",
       "      <td>Nigeria</td>\n",
       "      <td>Plateau State</td>\n",
       "      <td>Jos</td>\n",
       "      <td>9.9200</td>\n",
       "      <td>8.9000</td>\n",
       "      <td>1969</td>\n",
       "      <td>1969</td>\n",
       "      <td>Human</td>\n",
       "      <td>Acute</td>\n",
       "      <td>2</td>\n",
       "    </tr>\n",
       "    <tr>\n",
       "      <td>4</td>\n",
       "      <td>5</td>\n",
       "      <td>Cote d'Ivoire</td>\n",
       "      <td>Beoumi Prefecture</td>\n",
       "      <td>Beoumi</td>\n",
       "      <td>7.6700</td>\n",
       "      <td>-5.5700</td>\n",
       "      <td>1970</td>\n",
       "      <td>1974</td>\n",
       "      <td>Human</td>\n",
       "      <td>Acute</td>\n",
       "      <td>1</td>\n",
       "    </tr>\n",
       "  </tbody>\n",
       "</table>\n",
       "</div>"
      ],
      "text/plain": [
       "   ID        Country       Admin_region    Town  Latitude  Longitude  \\\n",
       "0   1        Nigeria       Kaduna State  Rahama   10.4134     8.6904   \n",
       "1   2        Liberia        Lofa County  Zorzor    7.7700    -9.4200   \n",
       "2   3        Nigeria        Borno State   Lassa   10.6900    13.3100   \n",
       "3   4        Nigeria      Plateau State     Jos    9.9200     8.9000   \n",
       "4   5  Cote d'Ivoire  Beoumi Prefecture  Beoumi    7.6700    -5.5700   \n",
       "\n",
       "   Year_start  Year_end Rodent_or_human Acutedisease_or_seroprevalence  \\\n",
       "0        1952      1952           Human                          Acute   \n",
       "1        1969      1982           Human                          Acute   \n",
       "2        1969      1969           Human                          Acute   \n",
       "3        1969      1969           Human                          Acute   \n",
       "4        1970      1974           Human                          Acute   \n",
       "\n",
       "   Number_acutecases  \n",
       "0                  1  \n",
       "1                 38  \n",
       "2                  1  \n",
       "3                  2  \n",
       "4                  1  "
      ]
     },
     "execution_count": 20,
     "metadata": {},
     "output_type": "execute_result"
    }
   ],
   "source": [
    "\n",
    "lassadata = pd.read_csv('lassadata.csv')\n",
    "\n",
    "lassadata.head()"
   ]
  },
  {
   "cell_type": "code",
   "execution_count": 28,
   "metadata": {},
   "outputs": [
    {
     "data": {
      "text/html": [
       "<div>\n",
       "<style scoped>\n",
       "    .dataframe tbody tr th:only-of-type {\n",
       "        vertical-align: middle;\n",
       "    }\n",
       "\n",
       "    .dataframe tbody tr th {\n",
       "        vertical-align: top;\n",
       "    }\n",
       "\n",
       "    .dataframe thead th {\n",
       "        text-align: right;\n",
       "    }\n",
       "</style>\n",
       "<table border=\"1\" class=\"dataframe\">\n",
       "  <thead>\n",
       "    <tr style=\"text-align: right;\">\n",
       "      <th></th>\n",
       "      <th>Latitude</th>\n",
       "      <th>Longitude</th>\n",
       "      <th>Number_acutecases</th>\n",
       "    </tr>\n",
       "  </thead>\n",
       "  <tbody>\n",
       "    <tr>\n",
       "      <td>0</td>\n",
       "      <td>10.4134</td>\n",
       "      <td>8.6904</td>\n",
       "      <td>1</td>\n",
       "    </tr>\n",
       "    <tr>\n",
       "      <td>1</td>\n",
       "      <td>7.7700</td>\n",
       "      <td>-9.4200</td>\n",
       "      <td>38</td>\n",
       "    </tr>\n",
       "    <tr>\n",
       "      <td>2</td>\n",
       "      <td>10.6900</td>\n",
       "      <td>13.3100</td>\n",
       "      <td>1</td>\n",
       "    </tr>\n",
       "    <tr>\n",
       "      <td>3</td>\n",
       "      <td>9.9200</td>\n",
       "      <td>8.9000</td>\n",
       "      <td>2</td>\n",
       "    </tr>\n",
       "    <tr>\n",
       "      <td>4</td>\n",
       "      <td>7.6700</td>\n",
       "      <td>-5.5700</td>\n",
       "      <td>1</td>\n",
       "    </tr>\n",
       "  </tbody>\n",
       "</table>\n",
       "</div>"
      ],
      "text/plain": [
       "   Latitude  Longitude  Number_acutecases\n",
       "0   10.4134     8.6904                  1\n",
       "1    7.7700    -9.4200                 38\n",
       "2   10.6900    13.3100                  1\n",
       "3    9.9200     8.9000                  2\n",
       "4    7.6700    -5.5700                  1"
      ]
     },
     "execution_count": 28,
     "metadata": {},
     "output_type": "execute_result"
    }
   ],
   "source": [
    "lassadata = pd.read_csv('lassadata.csv')\n",
    "\n",
    "\n",
    "novolassa = ['Latitude','Longitude', 'Number_acutecases']\n",
    "\n",
    "novolassa = lassadata.filter(items=novolassa)\n",
    "\n",
    "novolassa.head()"
   ]
  },
  {
   "cell_type": "code",
   "execution_count": 22,
   "metadata": {},
   "outputs": [],
   "source": [
    "import folium\n"
   ]
  },
  {
   "cell_type": "code",
   "execution_count": 23,
   "metadata": {},
   "outputs": [],
   "source": [
    "m = folium.Map(location=[14.1550501,3.8806486],zoom_start=4.5)"
   ]
  },
  {
   "cell_type": "code",
   "execution_count": 24,
   "metadata": {},
   "outputs": [
    {
     "data": {
      "text/html": [
       "<div style=\"width:100%;\"><div style=\"position:relative;width:100%;height:0;padding-bottom:60%;\"><iframe src=\"data:text/html;charset=utf-8;base64,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\" style=\"position:absolute;width:100%;height:100%;left:0;top:0;border:none !important;\" allowfullscreen webkitallowfullscreen mozallowfullscreen></iframe></div></div>"
      ],
      "text/plain": [
       "<folium.folium.Map at 0x20590eaef88>"
      ]
     },
     "execution_count": 24,
     "metadata": {},
     "output_type": "execute_result"
    }
   ],
   "source": [
    "m"
   ]
  },
  {
   "cell_type": "code",
   "execution_count": 25,
   "metadata": {},
   "outputs": [
    {
     "data": {
      "text/plain": [
       "<folium.map.Marker at 0x20590eb1308>"
      ]
     },
     "execution_count": 25,
     "metadata": {},
     "output_type": "execute_result"
    }
   ],
   "source": [
    "m1 = folium.Map(location=[14.1550501,3.8806486],zoom_start=4.5)\n",
    "\n",
    "tooltip = 'Click me!'\n",
    "\n",
    "folium.Marker([12.444453, 6.341586], popup='geolocalization', tooltip=tooltip).add_to(m1)\n",
    "\n"
   ]
  },
  {
   "cell_type": "code",
   "execution_count": 26,
   "metadata": {},
   "outputs": [
    {
     "data": {
      "text/html": [
       "<div style=\"width:100%;\"><div style=\"position:relative;width:100%;height:0;padding-bottom:60%;\"><iframe src=\"data:text/html;charset=utf-8;base64,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\" style=\"position:absolute;width:100%;height:100%;left:0;top:0;border:none !important;\" allowfullscreen webkitallowfullscreen mozallowfullscreen></iframe></div></div>"
      ],
      "text/plain": [
       "<folium.folium.Map at 0x20590eb1388>"
      ]
     },
     "execution_count": 26,
     "metadata": {},
     "output_type": "execute_result"
    }
   ],
   "source": [
    "m1"
   ]
  },
  {
   "cell_type": "code",
   "execution_count": 35,
   "metadata": {},
   "outputs": [
    {
     "ename": "NameError",
     "evalue": "name 'vis1' is not defined",
     "output_type": "error",
     "traceback": [
      "\u001b[1;31m---------------------------------------------------------------------------\u001b[0m",
      "\u001b[1;31mNameError\u001b[0m                                 Traceback (most recent call last)",
      "\u001b[1;32m<ipython-input-35-495fc21b5685>\u001b[0m in \u001b[0;36m<module>\u001b[1;34m\u001b[0m\n\u001b[0;32m     10\u001b[0m     \u001b[0mlocation\u001b[0m\u001b[1;33m=\u001b[0m\u001b[1;33m[\u001b[0m\u001b[1;36m47.3489\u001b[0m\u001b[1;33m,\u001b[0m \u001b[1;33m-\u001b[0m\u001b[1;36m124.708\u001b[0m\u001b[1;33m]\u001b[0m\u001b[1;33m,\u001b[0m\u001b[1;33m\u001b[0m\u001b[1;33m\u001b[0m\u001b[0m\n\u001b[0;32m     11\u001b[0m     popup=folium.Popup(max_width=450).add_child(\n\u001b[1;32m---> 12\u001b[1;33m         folium.Vega(vis1, width=450, height=250))\n\u001b[0m\u001b[0;32m     13\u001b[0m ).add_to(m)\n\u001b[0;32m     14\u001b[0m \u001b[1;33m\u001b[0m\u001b[0m\n",
      "\u001b[1;31mNameError\u001b[0m: name 'vis1' is not defined"
     ]
    }
   ],
   "source": [
    "# CODE THAT I NEED TO USE, YOU CAN FIND IT IN: https://python-visualization.github.io/folium/quickstart.html\n",
    "\n",
    "m = folium.Map(\n",
    "    location=[46.3014, -123.7390],\n",
    "    zoom_start=7,\n",
    "    tiles='Stamen Terrain'\n",
    ")\n",
    "\n",
    "folium.Marker(\n",
    "    location=[47.3489, -124.708],\n",
    "    popup=folium.Popup(max_width=450).add_child(\n",
    "        folium.Vega(vis1, width=450, height=250))\n",
    ").add_to(m)\n",
    "\n",
    "folium.Marker(\n",
    "    location=[44.639, -124.5339],\n",
    "    popup=folium.Popup(max_width=450).add_child(\n",
    "        folium.Vega(vis2, width=450, height=250))\n",
    ").add_to(m)\n",
    "\n",
    "folium.Marker(\n",
    "    location=[46.216, -124.1280],\n",
    "    popup=folium.Popup(max_width=450).add_child(\n",
    "        folium.Vega(vis3, width=450, height=250))\n",
    ").add_to(m)\n",
    "\n",
    "\n",
    "m"
   ]
  },
  {
   "cell_type": "code",
   "execution_count": 40,
   "metadata": {},
   "outputs": [
    {
     "name": "stdout",
     "output_type": "stream",
     "text": [
      "10.4134 8.6904\n"
     ]
    },
    {
     "ename": "TypeError",
     "evalue": "__init__() got multiple values for argument 'popup'",
     "output_type": "error",
     "traceback": [
      "\u001b[1;31m---------------------------------------------------------------------------\u001b[0m",
      "\u001b[1;31mTypeError\u001b[0m                                 Traceback (most recent call last)",
      "\u001b[1;32m<ipython-input-40-b3c9db31a681>\u001b[0m in \u001b[0;36m<module>\u001b[1;34m\u001b[0m\n\u001b[0;32m     10\u001b[0m \u001b[1;32mfor\u001b[0m \u001b[0mindex\u001b[0m\u001b[1;33m,\u001b[0m \u001b[0mline\u001b[0m \u001b[1;32min\u001b[0m \u001b[0mread\u001b[0m\u001b[1;33m.\u001b[0m\u001b[0miterrows\u001b[0m\u001b[1;33m(\u001b[0m\u001b[1;33m)\u001b[0m\u001b[1;33m:\u001b[0m\u001b[1;33m\u001b[0m\u001b[1;33m\u001b[0m\u001b[0m\n\u001b[0;32m     11\u001b[0m     \u001b[0mprint\u001b[0m\u001b[1;33m(\u001b[0m\u001b[0mline\u001b[0m\u001b[1;33m[\u001b[0m\u001b[1;34m'Latitude'\u001b[0m\u001b[1;33m]\u001b[0m\u001b[1;33m,\u001b[0m \u001b[0mline\u001b[0m\u001b[1;33m[\u001b[0m\u001b[1;34m'Longitude'\u001b[0m\u001b[1;33m]\u001b[0m\u001b[1;33m)\u001b[0m\u001b[1;33m\u001b[0m\u001b[1;33m\u001b[0m\u001b[0m\n\u001b[1;32m---> 12\u001b[1;33m     \u001b[0mfolium\u001b[0m\u001b[1;33m.\u001b[0m\u001b[0mMarker\u001b[0m\u001b[1;33m(\u001b[0m\u001b[0mline\u001b[0m\u001b[1;33m[\u001b[0m\u001b[1;34m'Latitude'\u001b[0m\u001b[1;33m]\u001b[0m\u001b[1;33m,\u001b[0m \u001b[0mline\u001b[0m\u001b[1;33m[\u001b[0m\u001b[1;34m'Longitude'\u001b[0m\u001b[1;33m]\u001b[0m\u001b[1;33m,\u001b[0m \u001b[0mpopup\u001b[0m\u001b[1;33m=\u001b[0m\u001b[0mline\u001b[0m\u001b[1;33m[\u001b[0m\u001b[1;34m'Number_acutecases'\u001b[0m\u001b[1;33m]\u001b[0m\u001b[1;33m)\u001b[0m\u001b[1;33m.\u001b[0m\u001b[0madd_to\u001b[0m\u001b[1;33m(\u001b[0m\u001b[0mmap\u001b[0m\u001b[1;33m)\u001b[0m\u001b[1;33m\u001b[0m\u001b[1;33m\u001b[0m\u001b[0m\n\u001b[0m\u001b[0;32m     13\u001b[0m \u001b[1;33m\u001b[0m\u001b[0m\n\u001b[0;32m     14\u001b[0m \u001b[0mmap\u001b[0m \u001b[1;33m=\u001b[0m \u001b[0mfolium\u001b[0m\u001b[1;33m.\u001b[0m\u001b[0mMap\u001b[0m\u001b[1;33m(\u001b[0m\u001b[0mlocation\u001b[0m\u001b[1;33m=\u001b[0m\u001b[1;33m[\u001b[0m\u001b[1;36m14.1550501\u001b[0m\u001b[1;33m,\u001b[0m\u001b[1;36m3.8806486\u001b[0m\u001b[1;33m]\u001b[0m\u001b[1;33m,\u001b[0m\u001b[0mzoom_start\u001b[0m\u001b[1;33m=\u001b[0m\u001b[1;36m4.5\u001b[0m\u001b[1;33m)\u001b[0m\u001b[1;33m\u001b[0m\u001b[1;33m\u001b[0m\u001b[0m\n",
      "\u001b[1;31mTypeError\u001b[0m: __init__() got multiple values for argument 'popup'"
     ]
    }
   ],
   "source": [
    "import folium\n",
    "import pandas as pd\n",
    "\n",
    "lassadata = pd.read_csv('lassadata.csv')\n",
    "\n",
    "read = ['Latitude','Longitude', 'Number_acutecases']\n",
    "\n",
    "read = lassadata.filter(items=read)\n",
    "\n",
    "for index, line in read.iterrows():\n",
    "    print(line['Latitude'], line['Longitude'])\n",
    "    folium.Marker(line['Latitude'], line['Longitude'], popup=line['Number_acutecases']).add_to(map)\n",
    "\n",
    "map = folium.Map(location=[14.1550501,3.8806486],zoom_start=4.5)\n",
    "\n",
    "\n",
    "map.save('mapa.html')"
   ]
  },
  {
   "cell_type": "code",
   "execution_count": 34,
   "metadata": {},
   "outputs": [],
   "source": [
    "mapa = folium.Map(location=[14.1550501,3.8806486],tiles='Mapbox COntrol Room',zoom_start=4.5)\n",
    "\n",
    "#mapa.save('mapaescuro.html')\n",
    "\n",
    "#doesn't working in my pc"
   ]
  },
  {
   "cell_type": "code",
   "execution_count": null,
   "metadata": {},
   "outputs": [],
   "source": [
    "import pandas as pd\n",
    "\n",
    "\n",
    "url = 'https://raw.githubusercontent.com/python-visualization/folium/master/examples/data'\n",
    "\n",
    "lassadata = pd.read_csv('lassadata.csv')\n",
    "\n",
    "state_geo = ['Latitude','Longitude']\n",
    "\n",
    "state_geo = lassadata.filter(items=state_geo)\n",
    "\n",
    "lassadata = pd.read_csv('lassadata.csv')\n",
    "\n",
    "novolassa = ['Country','Latitude','Longitude', 'Number_acutecases']\n",
    "\n",
    "novolassa = lassadata.filter(items=novolassa)\n",
    "\n",
    "m = folium.Map(location=[48, -102], zoom_start=3)\n",
    "\n",
    "folium.Choropleth(\n",
    "    geo_data=state_geo,\n",
    "    name='choropleth',\n",
    "    data=novolassa,\n",
    "    columns=['Latitude', 'Longitude'],\n",
    "    key_on='feature.id',\n",
    "    fill_color='YlGn',\n",
    "    fill_opacity=0.7,\n",
    "    line_opacity=0.2,\n",
    "    legend_name='Localization Outbreaks'\n",
    ").add_to(m)\n",
    "\n",
    "folium.LayerControl().add_to(m)\n",
    "\n",
    "m"
   ]
  },
  {
   "cell_type": "code",
   "execution_count": null,
   "metadata": {},
   "outputs": [],
   "source": []
  },
  {
   "cell_type": "code",
   "execution_count": null,
   "metadata": {},
   "outputs": [],
   "source": []
  },
  {
   "cell_type": "code",
   "execution_count": null,
   "metadata": {},
   "outputs": [],
   "source": []
  },
  {
   "cell_type": "code",
   "execution_count": null,
   "metadata": {},
   "outputs": [],
   "source": []
  },
  {
   "cell_type": "code",
   "execution_count": null,
   "metadata": {},
   "outputs": [],
   "source": []
  },
  {
   "cell_type": "code",
   "execution_count": null,
   "metadata": {},
   "outputs": [],
   "source": []
  },
  {
   "cell_type": "code",
   "execution_count": null,
   "metadata": {},
   "outputs": [],
   "source": []
  },
  {
   "cell_type": "code",
   "execution_count": null,
   "metadata": {},
   "outputs": [],
   "source": []
  },
  {
   "cell_type": "code",
   "execution_count": null,
   "metadata": {},
   "outputs": [],
   "source": []
  },
  {
   "cell_type": "code",
   "execution_count": null,
   "metadata": {},
   "outputs": [],
   "source": []
  },
  {
   "cell_type": "code",
   "execution_count": null,
   "metadata": {},
   "outputs": [],
   "source": []
  },
  {
   "cell_type": "code",
   "execution_count": null,
   "metadata": {},
   "outputs": [],
   "source": []
  },
  {
   "cell_type": "code",
   "execution_count": null,
   "metadata": {},
   "outputs": [],
   "source": []
  },
  {
   "cell_type": "code",
   "execution_count": null,
   "metadata": {},
   "outputs": [],
   "source": []
  },
  {
   "cell_type": "code",
   "execution_count": null,
   "metadata": {},
   "outputs": [],
   "source": []
  },
  {
   "cell_type": "code",
   "execution_count": null,
   "metadata": {},
   "outputs": [],
   "source": []
  },
  {
   "cell_type": "code",
   "execution_count": null,
   "metadata": {},
   "outputs": [],
   "source": []
  },
  {
   "cell_type": "code",
   "execution_count": null,
   "metadata": {},
   "outputs": [],
   "source": []
  },
  {
   "cell_type": "code",
   "execution_count": null,
   "metadata": {},
   "outputs": [],
   "source": []
  },
  {
   "cell_type": "code",
   "execution_count": null,
   "metadata": {},
   "outputs": [],
   "source": []
  },
  {
   "cell_type": "code",
   "execution_count": null,
   "metadata": {},
   "outputs": [],
   "source": []
  },
  {
   "cell_type": "code",
   "execution_count": null,
   "metadata": {},
   "outputs": [],
   "source": []
  },
  {
   "cell_type": "code",
   "execution_count": null,
   "metadata": {},
   "outputs": [],
   "source": []
  },
  {
   "cell_type": "code",
   "execution_count": null,
   "metadata": {},
   "outputs": [],
   "source": []
  },
  {
   "cell_type": "code",
   "execution_count": null,
   "metadata": {},
   "outputs": [],
   "source": []
  },
  {
   "cell_type": "code",
   "execution_count": null,
   "metadata": {},
   "outputs": [],
   "source": []
  },
  {
   "cell_type": "code",
   "execution_count": null,
   "metadata": {},
   "outputs": [],
   "source": []
  }
 ],
 "metadata": {
  "kernelspec": {
   "display_name": "Python 3",
   "language": "python",
   "name": "python3"
  },
  "language_info": {
   "codemirror_mode": {
    "name": "ipython",
    "version": 3
   },
   "file_extension": ".py",
   "mimetype": "text/x-python",
   "name": "python",
   "nbconvert_exporter": "python",
   "pygments_lexer": "ipython3",
   "version": "3.7.4"
  }
 },
 "nbformat": 4,
 "nbformat_minor": 2
}
